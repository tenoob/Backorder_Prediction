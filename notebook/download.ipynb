{
 "cells": [
  {
   "cell_type": "code",
   "execution_count": 2,
   "metadata": {},
   "outputs": [],
   "source": [
    "import os\n",
    "os.chdir(\"..\")\n",
    "import tarfile"
   ]
  },
  {
   "cell_type": "code",
   "execution_count": 10,
   "metadata": {},
   "outputs": [],
   "source": [
    "file = r\"D:\\ineuron\\Backorder_Prediction_Project\\Backorder_Prediction\\application\\storage\\data_ingestion\\2022-11-21-14-08-40\\tgx_data\\dataset.rar\"\n",
    "raw_data_dir = r\"D:\\ineuron\\Backorder_Prediction_Project\\Backorder_Prediction\\application\\storage\\data_ingestion\\2022-11-21-14-08-40\\tgx_data\\new_data\"\n",
    "\n",
    "def extract_tgz_file(tgz_file_path:str):\n",
    "            raw_data_dir = r\"D:\\ineuron\\Backorder_Prediction_Project\\Backorder_Prediction\\application\\storage\\data_ingestion\\2022-11-21-14-08-40\\tgx_data\\new_data\"\n",
    "\n",
    "            if os.path.exists(raw_data_dir):\n",
    "                os.remove(raw_data_dir)\n",
    "\n",
    "            os.makedirs(raw_data_dir,exist_ok=True)\n",
    "\n",
    "            with tarfile.open(tgz_file_path) as housing_tgz_file_obj:\n",
    "                housing_tgz_file_obj.extractall(path=raw_data_dir)\n",
    "            "
   ]
  },
  {
   "cell_type": "code",
   "execution_count": 8,
   "metadata": {},
   "outputs": [
    {
     "ename": "ReadError",
     "evalue": "file could not be opened successfully",
     "output_type": "error",
     "traceback": [
      "\u001b[1;31m---------------------------------------------------------------------------\u001b[0m",
      "\u001b[1;31mReadError\u001b[0m                                 Traceback (most recent call last)",
      "Cell \u001b[1;32mIn [8], line 1\u001b[0m\n\u001b[1;32m----> 1\u001b[0m extract_tgz_file(tgz_file_path\u001b[39m=\u001b[39;49mfile)\n",
      "Cell \u001b[1;32mIn [7], line 11\u001b[0m, in \u001b[0;36mextract_tgz_file\u001b[1;34m(tgz_file_path)\u001b[0m\n\u001b[0;32m      7\u001b[0m     os\u001b[39m.\u001b[39mremove(raw_data_dir)\n\u001b[0;32m      9\u001b[0m os\u001b[39m.\u001b[39mmakedirs(raw_data_dir,exist_ok\u001b[39m=\u001b[39m\u001b[39mTrue\u001b[39;00m)\n\u001b[1;32m---> 11\u001b[0m \u001b[39mwith\u001b[39;00m tarfile\u001b[39m.\u001b[39;49mopen(tgz_file_path) \u001b[39mas\u001b[39;00m housing_tgz_file_obj:\n\u001b[0;32m     12\u001b[0m     housing_tgz_file_obj\u001b[39m.\u001b[39mextractall(path\u001b[39m=\u001b[39mraw_data_dir)\n",
      "File \u001b[1;32mc:\\Users\\kanan\\Anaconda3\\envs\\backorderenv\\lib\\tarfile.py:1625\u001b[0m, in \u001b[0;36mTarFile.open\u001b[1;34m(cls, name, mode, fileobj, bufsize, **kwargs)\u001b[0m\n\u001b[0;32m   1623\u001b[0m                 fileobj\u001b[39m.\u001b[39mseek(saved_pos)\n\u001b[0;32m   1624\u001b[0m             \u001b[39mcontinue\u001b[39;00m\n\u001b[1;32m-> 1625\u001b[0m     \u001b[39mraise\u001b[39;00m ReadError(\u001b[39m\"\u001b[39m\u001b[39mfile could not be opened successfully\u001b[39m\u001b[39m\"\u001b[39m)\n\u001b[0;32m   1627\u001b[0m \u001b[39melif\u001b[39;00m \u001b[39m\"\u001b[39m\u001b[39m:\u001b[39m\u001b[39m\"\u001b[39m \u001b[39min\u001b[39;00m mode:\n\u001b[0;32m   1628\u001b[0m     filemode, comptype \u001b[39m=\u001b[39m mode\u001b[39m.\u001b[39msplit(\u001b[39m\"\u001b[39m\u001b[39m:\u001b[39m\u001b[39m\"\u001b[39m, \u001b[39m1\u001b[39m)\n",
      "\u001b[1;31mReadError\u001b[0m: file could not be opened successfully"
     ]
    }
   ],
   "source": [
    "extract_tgz_file(tgz_file_path=file)"
   ]
  },
  {
   "cell_type": "code",
   "execution_count": 11,
   "metadata": {},
   "outputs": [],
   "source": [
    "from pyunpack import Archive\n",
    "Archive(file).extractall(raw_data_dir)"
   ]
  },
  {
   "cell_type": "code",
   "execution_count": null,
   "metadata": {},
   "outputs": [],
   "source": []
  }
 ],
 "metadata": {
  "kernelspec": {
   "display_name": "Python 3.9.13 ('backorderenv')",
   "language": "python",
   "name": "python3"
  },
  "language_info": {
   "codemirror_mode": {
    "name": "ipython",
    "version": 3
   },
   "file_extension": ".py",
   "mimetype": "text/x-python",
   "name": "python",
   "nbconvert_exporter": "python",
   "pygments_lexer": "ipython3",
   "version": "3.9.13"
  },
  "orig_nbformat": 4,
  "vscode": {
   "interpreter": {
    "hash": "77d9758d2083636779be877a8f54b971d35e897436f7c68b48acdae8b288cd1e"
   }
  }
 },
 "nbformat": 4,
 "nbformat_minor": 2
}
