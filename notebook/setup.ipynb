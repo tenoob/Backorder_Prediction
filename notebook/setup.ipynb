{
 "cells": [
  {
   "cell_type": "code",
   "execution_count": 6,
   "metadata": {},
   "outputs": [],
   "source": [
    "import os\n",
    "os.getcwd()\n",
    "os.chdir('d:\\\\ineuron\\\\Backorder_Prediction_Project\\\\Backorder_Prediction')"
   ]
  },
  {
   "cell_type": "code",
   "execution_count": 7,
   "metadata": {},
   "outputs": [],
   "source": [
    "REQUIREMENT_FILE_NAME='requirement.txt'"
   ]
  },
  {
   "cell_type": "code",
   "execution_count": 10,
   "metadata": {},
   "outputs": [
    {
     "name": "stdout",
     "output_type": "stream",
     "text": [
      "['Flask\\n', 'gunicorn\\n', 'sklearn\\n', 'pandas\\n', 'numpy\\n', 'PyYAML\\n', 'evidently\\n', 'dill\\n', '-e .']\n"
     ]
    }
   ],
   "source": [
    "with open(REQUIREMENT_FILE_NAME) as requrirement_file:\n",
    "        print(requrirement_file.readlines())"
   ]
  },
  {
   "cell_type": "code",
   "execution_count": 11,
   "metadata": {},
   "outputs": [],
   "source": [
    "HYPHeN_E_DOT = '-e .'"
   ]
  },
  {
   "cell_type": "code",
   "execution_count": 17,
   "metadata": {},
   "outputs": [
    {
     "name": "stdout",
     "output_type": "stream",
     "text": [
      "input reqirement list: ['Flask\\n', 'gunicorn\\n', 'sklearn\\n', 'pandas\\n', 'numpy\\n', 'PyYAML\\n', 'evidently\\n', 'dill\\n', '-e .']\n",
      "removed reqirement list: ['Flask', 'gunicorn', 'sklearn', 'pandas', 'numpy', 'PyYAML', 'evidently', 'dill', '-e .']\n",
      "return list ['Flask', 'gunicorn', 'sklearn', 'pandas', 'numpy', 'PyYAML', 'evidently', 'dill']\n"
     ]
    }
   ],
   "source": [
    "with open(REQUIREMENT_FILE_NAME) as requirement_file:\n",
    "        requirement_list = requirement_file.readlines()\n",
    "        print(\"input reqirement list:\",requirement_list)\n",
    "        requirement_list = [requirement_name.replace('\\n',\"\") for requirement_name in requirement_list]\n",
    "        \n",
    "        print(\"removed reqirement list:\",requirement_list)\n",
    "        if HYPHeN_E_DOT in requirement_list:\n",
    "            requirement_list.remove(HYPHeN_E_DOT)\n",
    "        print(\"return list\",requirement_list)    "
   ]
  },
  {
   "cell_type": "code",
   "execution_count": null,
   "metadata": {},
   "outputs": [],
   "source": []
  }
 ],
 "metadata": {
  "kernelspec": {
   "display_name": "Python 3.9.13 (conda)",
   "language": "python",
   "name": "python3"
  },
  "language_info": {
   "codemirror_mode": {
    "name": "ipython",
    "version": 3
   },
   "file_extension": ".py",
   "mimetype": "text/x-python",
   "name": "python",
   "nbconvert_exporter": "python",
   "pygments_lexer": "ipython3",
   "version": "3.9.13"
  },
  "orig_nbformat": 4,
  "vscode": {
   "interpreter": {
    "hash": "8d3eb3f2328b60e80fd6b34b585a4eb230b2927db500b14917745458680f45bf"
   }
  }
 },
 "nbformat": 4,
 "nbformat_minor": 2
}
