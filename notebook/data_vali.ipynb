{
 "cells": [
  {
   "cell_type": "code",
   "execution_count": 1,
   "metadata": {},
   "outputs": [],
   "source": [
    "import os,sys\n",
    "os.getcwd()\n",
    "os.chdir('d:\\\\ineuron\\\\Backorder_Prediction_Project')"
   ]
  },
  {
   "cell_type": "code",
   "execution_count": 2,
   "metadata": {},
   "outputs": [],
   "source": [
    "import pandas as pd\n",
    "from application.util.utililty import read_yaml_file\n",
    "from application.constant import *"
   ]
  },
  {
   "cell_type": "code",
   "execution_count": 3,
   "metadata": {},
   "outputs": [],
   "source": [
    "train = pd.read_csv('Kaggle_Training_Dataset_v2.csv',nrows=1000)"
   ]
  },
  {
   "cell_type": "code",
   "execution_count": 4,
   "metadata": {},
   "outputs": [
    {
     "name": "stdout",
     "output_type": "stream",
     "text": [
      "<class 'pandas.core.frame.DataFrame'>\n"
     ]
    }
   ],
   "source": [
    "print(type(train))"
   ]
  },
  {
   "cell_type": "code",
   "execution_count": 5,
   "metadata": {},
   "outputs": [],
   "source": [
    "schema = read_yaml_file(r'D:\\ineuron\\Backorder_Prediction_Project\\Backorder_Prediction\\ConfigrationFiles\\schema.yaml')"
   ]
  },
  {
   "cell_type": "code",
   "execution_count": 6,
   "metadata": {},
   "outputs": [],
   "source": [
    "cols = schema[COLUMNS_TO_USE_KEY]"
   ]
  },
  {
   "cell_type": "code",
   "execution_count": 8,
   "metadata": {},
   "outputs": [
    {
     "name": "stdout",
     "output_type": "stream",
     "text": [
      "❌ sku is not present in Schema \n",
      "✓ national_inv is present in Schema \n",
      "int64\n",
      "int64\n",
      "None\n",
      "✓ lead_time is present in Schema \n",
      "float64\n",
      "float64\n",
      "None\n",
      "✓ in_transit_qty is present in Schema \n",
      "int64\n",
      "int64\n",
      "None\n",
      "✓ forecast_3_month is present in Schema \n",
      "int64\n",
      "int64\n",
      "None\n",
      "✓ forecast_6_month is present in Schema \n",
      "int64\n",
      "int64\n",
      "None\n",
      "✓ forecast_9_month is present in Schema \n",
      "int64\n",
      "int64\n",
      "None\n",
      "✓ sales_1_month is present in Schema \n",
      "int64\n",
      "int64\n",
      "None\n",
      "✓ sales_3_month is present in Schema \n",
      "int64\n",
      "int64\n",
      "None\n",
      "✓ sales_6_month is present in Schema \n",
      "int64\n",
      "int64\n",
      "None\n",
      "✓ sales_9_month is present in Schema \n",
      "int64\n",
      "int64\n",
      "None\n",
      "✓ min_bank is present in Schema \n",
      "int64\n",
      "int64\n",
      "None\n",
      "✓ potential_issue is present in Schema \n",
      "object\n",
      "object\n",
      "None\n",
      "✓ pieces_past_due is present in Schema \n",
      "int64\n",
      "int64\n",
      "None\n",
      "✓ perf_6_month_avg is present in Schema \n",
      "float64\n",
      "float64\n",
      "None\n",
      "✓ perf_12_month_avg is present in Schema \n",
      "float64\n",
      "float64\n",
      "None\n",
      "✓ local_bo_qty is present in Schema \n",
      "int64\n",
      "int64\n",
      "None\n",
      "✓ deck_risk is present in Schema \n",
      "object\n",
      "object\n",
      "None\n",
      "✓ oe_constraint is present in Schema \n",
      "object\n",
      "object\n",
      "None\n",
      "✓ ppap_risk is present in Schema \n",
      "object\n",
      "object\n",
      "None\n",
      "✓ stop_auto_buy is present in Schema \n",
      "object\n",
      "object\n",
      "None\n",
      "✓ rev_stop is present in Schema \n",
      "object\n",
      "object\n",
      "None\n",
      "✓ went_on_backorder is present in Schema \n",
      "object\n",
      "object\n",
      "None\n"
     ]
    }
   ],
   "source": [
    "def check_dtye(x,y):\n",
    "    print(x)\n",
    "    print(y)\n",
    "    if x != y:\n",
    "        return True\n",
    "\n",
    "for col in train.columns:\n",
    "    if col in cols:\n",
    "        print(f\"\\N{check mark} {col} is present in Schema \")\n",
    "        print(check_dtye(x=train[col].dtype,y=schema[DATASET_SCHEMA_COLUMNS_KEY][col]))\n",
    "    else:\n",
    "        print(f\"\\N{cross mark} {col} is not present in Schema \")"
   ]
  },
  {
   "cell_type": "code",
   "execution_count": 17,
   "metadata": {},
   "outputs": [
    {
     "name": "stdout",
     "output_type": "stream",
     "text": [
      "aa\n"
     ]
    }
   ],
   "source": [
    "a = True\n",
    "b=True\n",
    "\n",
    "if a and b:\n",
    "    print(\"aa\")"
   ]
  },
  {
   "cell_type": "code",
   "execution_count": 9,
   "metadata": {},
   "outputs": [
    {
     "name": "stdout",
     "output_type": "stream",
     "text": [
      "False\n"
     ]
    }
   ],
   "source": [
    "x = False\n",
    "\n",
    "if x is False:\n",
    "    print(x)"
   ]
  },
  {
   "cell_type": "code",
   "execution_count": 18,
   "metadata": {},
   "outputs": [],
   "source": [
    "from application.logger import logging"
   ]
  },
  {
   "cell_type": "code",
   "execution_count": 19,
   "metadata": {},
   "outputs": [],
   "source": [
    "logging.info(f\"\\N{check mark}is present in Dataset \")\n"
   ]
  },
  {
   "cell_type": "code",
   "execution_count": null,
   "metadata": {},
   "outputs": [],
   "source": []
  }
 ],
 "metadata": {
  "kernelspec": {
   "display_name": "Python 3.9.13 ('backorderenv')",
   "language": "python",
   "name": "python3"
  },
  "language_info": {
   "codemirror_mode": {
    "name": "ipython",
    "version": 3
   },
   "file_extension": ".py",
   "mimetype": "text/x-python",
   "name": "python",
   "nbconvert_exporter": "python",
   "pygments_lexer": "ipython3",
   "version": "3.9.13"
  },
  "orig_nbformat": 4,
  "vscode": {
   "interpreter": {
    "hash": "77d9758d2083636779be877a8f54b971d35e897436f7c68b48acdae8b288cd1e"
   }
  }
 },
 "nbformat": 4,
 "nbformat_minor": 2
}
