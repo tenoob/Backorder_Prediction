{
 "cells": [
  {
   "cell_type": "code",
   "execution_count": 2,
   "metadata": {},
   "outputs": [],
   "source": [
    "x = [\"self.national_inv = national_inv\",\n",
    "            \"self.lead_time = lead_time\",\n",
    "            \"self.in_transit_qty = in_transit_qty\",\n",
    "            \"self.forecast_3_m = forecast_3_m\",\n",
    "            \"self.forecast_6_m = forecast_6_m\",\n",
    "            \"self.forecast_9_m = forecast_9_m\",\n",
    "            \"self.sales_1_m = sales_1_m\",\n",
    "            \"self.sales_3_m = sales_3_m\",\n",
    "            \"self.sales_6_m = sales_6_m\",\n",
    "            \"self.sales_9_m = sales_9_m\",\n",
    "            \"self.min_bank = min_bank\",\n",
    "            \"self.pieces_past_due = pieces_past_due\",\n",
    "            \"self.Perf_6_Month_Avg = Perf_6_Month_Avg\",\n",
    "            \"self.Perf_12_Month_Avg = Perf_12_Month_Avg\",\n",
    "            \"self.Local_Bo_Qty = Local_Bo_Qty\",\n",
    "            \"self.Potential_Issue = Potential_Issue\",\n",
    "            \"self.Deck_Risk = Deck_Risk\",\n",
    "            \"self.OE_Constraint = OE_Constraint\",\n",
    "            \"self.PPAP_Risk = PPAP_Risk\",\n",
    "            \"self.Stop_Auto_Buy = Stop_Auto_Buy\",\n",
    "            \"self.Rev_Stop = Rev_Stop\",\n",
    "            \"self.went_on_backorder = went_on_backorder\"]"
   ]
  },
  {
   "cell_type": "code",
   "execution_count": 9,
   "metadata": {},
   "outputs": [
    {
     "name": "stdout",
     "output_type": "stream",
     "text": [
      "national_inv=national_inv,\n",
      "lead_time=lead_time,\n",
      "in_transit_qty=in_transit_qty,\n",
      "forecast_3_m=forecast_3_m,\n",
      "forecast_6_m=forecast_6_m,\n",
      "forecast_9_m=forecast_9_m,\n",
      "sales_1_m=sales_1_m,\n",
      "sales_3_m=sales_3_m,\n",
      "sales_6_m=sales_6_m,\n",
      "sales_9_m=sales_9_m,\n",
      "min_bank=min_bank,\n",
      "pieces_past_due=pieces_past_due,\n",
      "Perf_6_Month_Avg=Perf_6_Month_Avg,\n",
      "Perf_12_Month_Avg=Perf_12_Month_Avg,\n",
      "Local_Bo_Qty=Local_Bo_Qty,\n",
      "Potential_Issue=Potential_Issue,\n",
      "Deck_Risk=Deck_Risk,\n",
      "OE_Constraint=OE_Constraint,\n",
      "PPAP_Risk=PPAP_Risk,\n",
      "Stop_Auto_Buy=Stop_Auto_Buy,\n",
      "Rev_Stop=Rev_Stop,\n",
      "went_on_backorder=went_on_backorder,\n"
     ]
    }
   ],
   "source": [
    "for i in x:\n",
    "    lst = i.split(\" = \")\n",
    "    print(f'{lst[1]}={lst[1]},')"
   ]
  },
  {
   "cell_type": "code",
   "execution_count": null,
   "metadata": {},
   "outputs": [],
   "source": []
  }
 ],
 "metadata": {
  "kernelspec": {
   "display_name": "Python 3.9.13 ('backorderenv')",
   "language": "python",
   "name": "python3"
  },
  "language_info": {
   "codemirror_mode": {
    "name": "ipython",
    "version": 3
   },
   "file_extension": ".py",
   "mimetype": "text/x-python",
   "name": "python",
   "nbconvert_exporter": "python",
   "pygments_lexer": "ipython3",
   "version": "3.9.13"
  },
  "orig_nbformat": 4,
  "vscode": {
   "interpreter": {
    "hash": "77d9758d2083636779be877a8f54b971d35e897436f7c68b48acdae8b288cd1e"
   }
  }
 },
 "nbformat": 4,
 "nbformat_minor": 2
}
