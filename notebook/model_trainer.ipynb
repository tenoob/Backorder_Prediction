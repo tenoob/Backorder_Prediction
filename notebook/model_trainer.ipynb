{
 "cells": [
  {
   "cell_type": "code",
   "execution_count": 1,
   "metadata": {},
   "outputs": [
    {
     "data": {
      "text/plain": [
       "'d:\\\\ineuron\\\\Backorder_Prediction_Project\\\\Backorder_Prediction'"
      ]
     },
     "execution_count": 1,
     "metadata": {},
     "output_type": "execute_result"
    }
   ],
   "source": [
    "import os\n",
    "os.chdir(\"..\")\n",
    "os.getcwd()"
   ]
  },
  {
   "cell_type": "code",
   "execution_count": 2,
   "metadata": {},
   "outputs": [],
   "source": [
    "from application.util.utililty import load_numpy_array_data"
   ]
  },
  {
   "cell_type": "code",
   "execution_count": 3,
   "metadata": {},
   "outputs": [],
   "source": [
    "file = load_numpy_array_data(file_path=r\"D:\\ineuron\\Backorder_Prediction_Project\\Backorder_Prediction\\application\\storage\\data_transformation\\2022-11-04-21-39-56\\transformed_data\\test\\Kaggle_Test_Dataset_v2.npz\")"
   ]
  },
  {
   "cell_type": "code",
   "execution_count": 16,
   "metadata": {},
   "outputs": [
    {
     "name": "stdout",
     "output_type": "stream",
     "text": [
      "[-0.12609889261388585 0.998195561762533 -0.4666256607379047\n",
      " 0.7789091451897506 0.06721208339738753 0.17259270438725838\n",
      " 1.8308115845725292 -1.512547435575275 0.15857454829644954\n",
      " -0.019853664878130364 0.06639998779991857 'No']\n",
      "[-0.12609893  0.9981949  -0.46662743  0.77890851  0.06721204  0.17259264\n",
      "  1.83081111 -1.51254658  0.15857448 -0.01985365  0.06639996  1.\n",
      "  0.        ]\n"
     ]
    }
   ],
   "source": [
    "print(file[-2])\n",
    "print(file2[-1])"
   ]
  },
  {
   "cell_type": "code",
   "execution_count": 5,
   "metadata": {},
   "outputs": [],
   "source": [
    "file2 = load_numpy_array_data(file_path=r\"D:\\ineuron\\Backorder_Prediction_Project\\Backorder_Prediction\\application\\storage\\data_transformation\\2022-11-08-00-31-35\\transformed_data\\test\\Kaggle_Test_Dataset_v2.npz\")"
   ]
  },
  {
   "cell_type": "code",
   "execution_count": 14,
   "metadata": {},
   "outputs": [
    {
     "data": {
      "text/plain": [
       "array([[-0.14164358,  0.99721861, -0.46635132,  0.77899005,  0.06708666,\n",
       "         0.17268882,  1.83168773, -1.51592945,  0.0771462 ,  0.0029363 ,\n",
       "         0.03495699,  1.        ,  0.        ],\n",
       "       [-0.14164097,  0.99721891, -0.4663514 ,  0.77899002,  0.0670867 ,\n",
       "         0.1726888 ,  1.83168742, -1.51592829,  0.07717366,  0.00292855,\n",
       "         0.03496809,  1.        ,  0.        ],\n",
       "       [-0.14164097,  0.99721891, -0.4663514 ,  0.77899002,  0.0670867 ,\n",
       "         0.1726888 ,  1.83168742, -1.51592829,  0.07717366,  0.00292855,\n",
       "         0.03496809,  1.        ,  0.        ],\n",
       "       [-0.14164878,  0.99721802, -0.46635117,  0.77899011,  0.06708658,\n",
       "         0.17268886,  1.83168835, -1.51593176,  0.07709127,  0.00295178,\n",
       "         0.0349348 ,  1.        ,  0.        ],\n",
       "       [-0.12609893,  0.9981949 , -0.46662743,  0.77890851,  0.06721204,\n",
       "         0.17259264,  1.83081111, -1.51254658,  0.15857448, -0.01985365,\n",
       "         0.06639996,  1.        ,  0.        ]])"
      ]
     },
     "execution_count": 14,
     "metadata": {},
     "output_type": "execute_result"
    }
   ],
   "source": [
    "file2[-5:]"
   ]
  },
  {
   "cell_type": "code",
   "execution_count": 7,
   "metadata": {},
   "outputs": [
    {
     "name": "stdout",
     "output_type": "stream",
     "text": [
      "(242076, 12)\n",
      "(242075, 13)\n"
     ]
    }
   ],
   "source": [
    "print(file.shape)\n",
    "print(file2.shape)"
   ]
  },
  {
   "cell_type": "code",
   "execution_count": 3,
   "metadata": {},
   "outputs": [],
   "source": [
    "import pandas as pd"
   ]
  },
  {
   "cell_type": "code",
   "execution_count": 4,
   "metadata": {},
   "outputs": [
    {
     "name": "stderr",
     "output_type": "stream",
     "text": [
      "C:\\Users\\kanan\\AppData\\Local\\Temp\\ipykernel_9680\\2429378952.py:1: DtypeWarning: Columns (0) have mixed types. Specify dtype option on import or set low_memory=False.\n",
      "  df = pd.read_csv(r'D:\\ineuron\\Backorder_Prediction_Project\\Backorder_Prediction\\application\\storage\\data_ingestion\\2022-11-08-00-31-35\\ingested_dir\\test\\Kaggle_Test_Dataset_v2.csv')\n"
     ]
    }
   ],
   "source": [
    "df = pd.read_csv(r'D:\\ineuron\\Backorder_Prediction_Project\\Backorder_Prediction\\application\\storage\\data_ingestion\\2022-11-08-00-31-35\\ingested_dir\\test\\Kaggle_Test_Dataset_v2.csv')"
   ]
  },
  {
   "cell_type": "code",
   "execution_count": 5,
   "metadata": {},
   "outputs": [
    {
     "data": {
      "text/plain": [
       "(242076, 23)"
      ]
     },
     "execution_count": 5,
     "metadata": {},
     "output_type": "execute_result"
    }
   ],
   "source": [
    "df.shape"
   ]
  },
  {
   "cell_type": "code",
   "execution_count": 6,
   "metadata": {},
   "outputs": [
    {
     "data": {
      "text/plain": [
       "1"
      ]
     },
     "execution_count": 6,
     "metadata": {},
     "output_type": "execute_result"
    }
   ],
   "source": [
    "df['went_on_backorder'].isna().sum()"
   ]
  },
  {
   "cell_type": "code",
   "execution_count": 7,
   "metadata": {},
   "outputs": [],
   "source": [
    "x = pd.get_dummies(df['went_on_backorder'])"
   ]
  },
  {
   "cell_type": "code",
   "execution_count": 8,
   "metadata": {},
   "outputs": [
    {
     "data": {
      "text/html": [
       "<div>\n",
       "<style scoped>\n",
       "    .dataframe tbody tr th:only-of-type {\n",
       "        vertical-align: middle;\n",
       "    }\n",
       "\n",
       "    .dataframe tbody tr th {\n",
       "        vertical-align: top;\n",
       "    }\n",
       "\n",
       "    .dataframe thead th {\n",
       "        text-align: right;\n",
       "    }\n",
       "</style>\n",
       "<table border=\"1\" class=\"dataframe\">\n",
       "  <thead>\n",
       "    <tr style=\"text-align: right;\">\n",
       "      <th></th>\n",
       "      <th>No</th>\n",
       "      <th>Yes</th>\n",
       "    </tr>\n",
       "  </thead>\n",
       "  <tbody>\n",
       "    <tr>\n",
       "      <th>0</th>\n",
       "      <td>1</td>\n",
       "      <td>0</td>\n",
       "    </tr>\n",
       "    <tr>\n",
       "      <th>1</th>\n",
       "      <td>1</td>\n",
       "      <td>0</td>\n",
       "    </tr>\n",
       "    <tr>\n",
       "      <th>2</th>\n",
       "      <td>1</td>\n",
       "      <td>0</td>\n",
       "    </tr>\n",
       "    <tr>\n",
       "      <th>3</th>\n",
       "      <td>1</td>\n",
       "      <td>0</td>\n",
       "    </tr>\n",
       "    <tr>\n",
       "      <th>4</th>\n",
       "      <td>1</td>\n",
       "      <td>0</td>\n",
       "    </tr>\n",
       "    <tr>\n",
       "      <th>...</th>\n",
       "      <td>...</td>\n",
       "      <td>...</td>\n",
       "    </tr>\n",
       "    <tr>\n",
       "      <th>242071</th>\n",
       "      <td>1</td>\n",
       "      <td>0</td>\n",
       "    </tr>\n",
       "    <tr>\n",
       "      <th>242072</th>\n",
       "      <td>1</td>\n",
       "      <td>0</td>\n",
       "    </tr>\n",
       "    <tr>\n",
       "      <th>242073</th>\n",
       "      <td>1</td>\n",
       "      <td>0</td>\n",
       "    </tr>\n",
       "    <tr>\n",
       "      <th>242074</th>\n",
       "      <td>1</td>\n",
       "      <td>0</td>\n",
       "    </tr>\n",
       "    <tr>\n",
       "      <th>242075</th>\n",
       "      <td>0</td>\n",
       "      <td>0</td>\n",
       "    </tr>\n",
       "  </tbody>\n",
       "</table>\n",
       "<p>242076 rows × 2 columns</p>\n",
       "</div>"
      ],
      "text/plain": [
       "        No  Yes\n",
       "0        1    0\n",
       "1        1    0\n",
       "2        1    0\n",
       "3        1    0\n",
       "4        1    0\n",
       "...     ..  ...\n",
       "242071   1    0\n",
       "242072   1    0\n",
       "242073   1    0\n",
       "242074   1    0\n",
       "242075   0    0\n",
       "\n",
       "[242076 rows x 2 columns]"
      ]
     },
     "execution_count": 8,
     "metadata": {},
     "output_type": "execute_result"
    }
   ],
   "source": [
    "x"
   ]
  },
  {
   "cell_type": "code",
   "execution_count": 25,
   "metadata": {},
   "outputs": [
    {
     "data": {
      "text/plain": [
       "No     239387\n",
       "Yes      2688\n",
       "Name: went_on_backorder, dtype: int64"
      ]
     },
     "execution_count": 25,
     "metadata": {},
     "output_type": "execute_result"
    }
   ],
   "source": [
    "df['went_on_backorder'].value_counts()"
   ]
  },
  {
   "cell_type": "code",
   "execution_count": null,
   "metadata": {},
   "outputs": [],
   "source": [
    "pd.get_dummies(test_df[target_column_name])"
   ]
  },
  {
   "cell_type": "code",
   "execution_count": 26,
   "metadata": {},
   "outputs": [],
   "source": [
    "file3 = load_numpy_array_data(file_path=r'D:\\ineuron\\Backorder_Prediction_Project\\Backorder_Prediction\\application\\storage\\data_transformation\\2022-11-08-00-59-47\\transformed_data\\test\\Kaggle_Test_Dataset_v2.npz')"
   ]
  },
  {
   "cell_type": "code",
   "execution_count": 27,
   "metadata": {},
   "outputs": [
    {
     "data": {
      "text/plain": [
       "(242075, 12)"
      ]
     },
     "execution_count": 27,
     "metadata": {},
     "output_type": "execute_result"
    }
   ],
   "source": [
    "file3.shape"
   ]
  },
  {
   "cell_type": "code",
   "execution_count": 28,
   "metadata": {},
   "outputs": [
    {
     "data": {
      "text/plain": [
       "(242076, 12)"
      ]
     },
     "execution_count": 28,
     "metadata": {},
     "output_type": "execute_result"
    }
   ],
   "source": [
    "file.shape"
   ]
  },
  {
   "cell_type": "code",
   "execution_count": 29,
   "metadata": {},
   "outputs": [
    {
     "data": {
      "text/plain": [
       "(242075, 13)"
      ]
     },
     "execution_count": 29,
     "metadata": {},
     "output_type": "execute_result"
    }
   ],
   "source": [
    "file2.shape"
   ]
  },
  {
   "cell_type": "code",
   "execution_count": 2,
   "metadata": {},
   "outputs": [],
   "source": [
    "from application.util.utililty import get_sample_model_config_yaml_file"
   ]
  },
  {
   "cell_type": "code",
   "execution_count": 3,
   "metadata": {},
   "outputs": [
    {
     "data": {
      "text/plain": [
       "'D:\\\\ineuron\\\\Backorder_Prediction_Project\\\\Backorder_Prediction\\\\ConfigrationFiles\\\\model.yaml'"
      ]
     },
     "execution_count": 3,
     "metadata": {},
     "output_type": "execute_result"
    }
   ],
   "source": [
    "path = r'D:\\ineuron\\Backorder_Prediction_Project\\Backorder_Prediction\\ConfigrationFiles'\n",
    "get_sample_model_config_yaml_file(export_dir=path)"
   ]
  },
  {
   "cell_type": "markdown",
   "metadata": {},
   "source": [
    "Initialized model: [\n",
    "    InitializedModelDetail(\n",
    "        model_serial_number='module_0', model=LinearRegression(), \n",
    "        param_grid_search=\n",
    "            {'\n",
    "            fit_intercept': [True, False]\n",
    "            }, \n",
    "        model_name='sklearn.linear_model.LinearRegression'), \n",
    "        \n",
    "    InitializedModelDetail(\n",
    "        model_serial_number='module_1', model=RandomForestRegressor(min_samples_leaf=3), param_grid_search=\n",
    "            {\n",
    "                'min_samples_leaf': [6, 3],\n",
    "                'max_depth': [3, 5]\n",
    "            }, \n",
    "        model_name='sklearn.ensembleRandomForestRegressor'), \n",
    "        \n",
    "    InitializedModelDetail(\n",
    "        model_serial_number='module_2', model=DecisionTreeRegressor(min_samples_leaf=3), param_grid_search=\n",
    "            {\n",
    "                'min_samples_leaf': [6, 15, 30], 'max_features': [1, 'sqrt'], 'max_leaf_nodes': [5, 15, 50], 'splitter': ['best', 'random']\n",
    "            }, \n",
    "        model_name='sklearn.tree.DecisionTreeRegressor')]"
   ]
  }
 ],
 "metadata": {
  "kernelspec": {
   "display_name": "Python 3.9.13 ('backorderenv')",
   "language": "python",
   "name": "python3"
  },
  "language_info": {
   "codemirror_mode": {
    "name": "ipython",
    "version": 3
   },
   "file_extension": ".py",
   "mimetype": "text/x-python",
   "name": "python",
   "nbconvert_exporter": "python",
   "pygments_lexer": "ipython3",
   "version": "3.9.13"
  },
  "orig_nbformat": 4,
  "vscode": {
   "interpreter": {
    "hash": "77d9758d2083636779be877a8f54b971d35e897436f7c68b48acdae8b288cd1e"
   }
  }
 },
 "nbformat": 4,
 "nbformat_minor": 2
}
