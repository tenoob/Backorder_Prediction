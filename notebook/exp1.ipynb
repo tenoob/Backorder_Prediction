{
 "cells": [
  {
   "cell_type": "code",
   "execution_count": 3,
   "metadata": {},
   "outputs": [],
   "source": [
    "import os,sys\n",
    "os.getcwd()\n",
    "os.chdir('d:\\\\ineuron\\\\Backorder_Prediction_Project\\\\Backorder_Prediction')"
   ]
  },
  {
   "cell_type": "code",
   "execution_count": 4,
   "metadata": {},
   "outputs": [],
   "source": [
    "from application.exception import BackorderException\n",
    "from application.logging import logging"
   ]
  },
  {
   "cell_type": "code",
   "execution_count": 7,
   "metadata": {},
   "outputs": [],
   "source": [
    "try:\n",
    "    logging.info(\"started 2\")\n",
    "    a = 'err'\n",
    "except Exception as e:\n",
    "    raise BackorderException(e,sys) from e"
   ]
  },
  {
   "cell_type": "code",
   "execution_count": null,
   "metadata": {},
   "outputs": [],
   "source": []
  }
 ],
 "metadata": {
  "kernelspec": {
   "display_name": "Python 3.9.13 (conda)",
   "language": "python",
   "name": "python3"
  },
  "language_info": {
   "codemirror_mode": {
    "name": "ipython",
    "version": 3
   },
   "file_extension": ".py",
   "mimetype": "text/x-python",
   "name": "python",
   "nbconvert_exporter": "python",
   "pygments_lexer": "ipython3",
   "version": "3.9.13"
  },
  "orig_nbformat": 4,
  "vscode": {
   "interpreter": {
    "hash": "8d3eb3f2328b60e80fd6b34b585a4eb230b2927db500b14917745458680f45bf"
   }
  }
 },
 "nbformat": 4,
 "nbformat_minor": 2
}
