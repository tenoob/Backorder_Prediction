{
 "cells": [
  {
   "cell_type": "markdown",
   "metadata": {},
   "source": [
    "[2022-11-19 03:42:35,956] ^; INFO ^; 90 ^; model_trainer.py ^; initiate_model_trainer() ^; \n",
    "Grid_searched_best_model_list: [GridSearchBestModel\n",
    "                                    (model_serial_number='module_0', \n",
    "                                     model=DecisionTreeClassifier(\n",
    "                                        class_weight='auto', \n",
    "                                        max_depth='None', \n",
    "                                        max_features=100,\n",
    "                                        min_samples_leaf=10, \n",
    "                                        min_samples_split=10), \n",
    "                                     best_model=DecisionTreeClassifier(\n",
    "                                        class_weight='balanced',\n",
    "                                         max_depth=9,\n",
    "                                         max_features='auto', \n",
    "                                         max_leaf_nodes=100), \n",
    "                                    best_parameters=\n",
    "                                        {'class_weight': 'balanced',\n",
    "                                         'max_depth': 9,\n",
    "                                          'max_features': 'auto',\n",
    "                                           'max_leaf_nodes': 100,\n",
    "                                            'min_samples_leaf': 1,\n",
    "                                             'min_samples_split': 2},\n",
    "                                    best_score=0.7679982845779698),\n",
    "                                    \n",
    "                                GridSearchBestModel(\n",
    "                                    model_serial_number='module_1', \n",
    "                                    model=RandomForestClassifier(\n",
    "                                        max_depth='None', \n",
    "                                        max_features=100, \n",
    "                                        min_samples_leaf=10,\n",
    "                                        min_samples_split=10), \n",
    "                                    best_model=\n",
    "                                        RandomForestClassifier(\n",
    "                                            max_depth=9, \n",
    "                                            max_leaf_nodes=100), \n",
    "                                        best_parameters={\n",
    "                                            'max_depth': 9,\n",
    "                                            'max_features': 'sqrt',\n",
    "                                            'max_leaf_nodes': 100,\n",
    "                                            'min_samples_leaf': 1,\n",
    "                                            'min_samples_split': 2}, \n",
    "                                    best_score=0.7962460344830797)]"
   ]
  },
  {
   "cell_type": "code",
   "execution_count": 1,
   "metadata": {},
   "outputs": [
    {
     "data": {
      "text/plain": [
       "'d:\\\\ineuron\\\\Backorder_Prediction_Project\\\\Backorder_Prediction'"
      ]
     },
     "execution_count": 1,
     "metadata": {},
     "output_type": "execute_result"
    }
   ],
   "source": [
    "import os\n",
    "os.chdir(\"..\")\n",
    "os.getcwd()"
   ]
  },
  {
   "cell_type": "code",
   "execution_count": 2,
   "metadata": {},
   "outputs": [],
   "source": [
    "from application.util.utililty import read_yaml_file"
   ]
  },
  {
   "cell_type": "code",
   "execution_count": 3,
   "metadata": {},
   "outputs": [],
   "source": [
    "model = read_yaml_file('D:\\ineuron\\Backorder_Prediction_Project\\Backorder_Prediction\\ConfigrationFiles\\model.yaml')"
   ]
  },
  {
   "cell_type": "code",
   "execution_count": 6,
   "metadata": {},
   "outputs": [],
   "source": [
    "model_selection = model['model_selection']"
   ]
  },
  {
   "cell_type": "code",
   "execution_count": 8,
   "metadata": {},
   "outputs": [],
   "source": [
    "m0 = model_selection['module_0']"
   ]
  },
  {
   "cell_type": "code",
   "execution_count": 10,
   "metadata": {},
   "outputs": [],
   "source": [
    "params = m0['params']"
   ]
  },
  {
   "cell_type": "code",
   "execution_count": 13,
   "metadata": {},
   "outputs": [],
   "source": [
    "search = m0['search_param_grid']"
   ]
  },
  {
   "cell_type": "code",
   "execution_count": 16,
   "metadata": {},
   "outputs": [
    {
     "data": {
      "text/plain": [
       "int"
      ]
     },
     "execution_count": 16,
     "metadata": {},
     "output_type": "execute_result"
    }
   ],
   "source": [
    "type(search['max_depth'][0])"
   ]
  },
  {
   "cell_type": "markdown",
   "metadata": {},
   "source": [
    "from flask import Flask\n",
    "\n",
    "app = Flask(__name__)\n",
    "\n",
    "@app.route('/',methods=['GET','POST'])\n",
    "def index():\n",
    "    return \"hello\"\n",
    "\n",
    "if __name__=='__main__':\n",
    "    app.run(debug=True)"
   ]
  },
  {
   "cell_type": "markdown",
   "metadata": {},
   "source": []
  }
 ],
 "metadata": {
  "kernelspec": {
   "display_name": "Python 3.9.13 ('backorderenv')",
   "language": "python",
   "name": "python3"
  },
  "language_info": {
   "codemirror_mode": {
    "name": "ipython",
    "version": 3
   },
   "file_extension": ".py",
   "mimetype": "text/x-python",
   "name": "python",
   "nbconvert_exporter": "python",
   "pygments_lexer": "ipython3",
   "version": "3.9.13"
  },
  "orig_nbformat": 4,
  "vscode": {
   "interpreter": {
    "hash": "77d9758d2083636779be877a8f54b971d35e897436f7c68b48acdae8b288cd1e"
   }
  }
 },
 "nbformat": 4,
 "nbformat_minor": 2
}
